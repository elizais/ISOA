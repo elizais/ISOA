{
 "cells": [
  {
   "cell_type": "code",
   "execution_count": 1,
   "id": "b9877adb",
   "metadata": {
    "pycharm": {
     "name": "#%%\n"
    }
   },
   "outputs": [
    {
     "name": "stderr",
     "output_type": "stream",
     "text": [
      "Enabling notebook extension jupyter-js-widgets/extension...\n",
      "      - Validating: ok\n"
     ]
    }
   ],
   "source": [
    "import os\n",
    "import sys\n",
    "\n",
    "import pandas as pd\n",
    "import numpy as np\n",
    "import catboost\n",
    "np.set_printoptions(precision=4)\n",
    "from catboost import *\n",
    "from catboost import datasets\n",
    "from catboost import CatBoostClassifier\n",
    "!jupyter nbextension enable --py widgetsnbextension"
   ]
  },
  {
   "cell_type": "markdown",
   "id": "a668c0ca",
   "metadata": {
    "pycharm": {
     "name": "#%% md\n"
    }
   },
   "source": []
  },
  {
   "cell_type": "code",
   "execution_count": 2,
   "id": "f8f711b6",
   "metadata": {
    "pycharm": {
     "name": "#%%\n"
    }
   },
   "outputs": [
    {
     "data": {
      "application/vnd.jupyter.widget-view+json": {
       "model_id": "2baf2f3ef82f4c0a92804c435d355062",
       "version_major": 2,
       "version_minor": 0
      },
      "text/plain": [
       "MetricVisualizer(layout=Layout(align_self='stretch', height='500px'))"
      ]
     },
     "metadata": {},
     "output_type": "display_data"
    }
   ],
   "source": [
    "w = catboost.MetricVisualizer('catboost_info\\\\')\n",
    "w.start()"
   ]
  },
  {
   "cell_type": "code",
   "execution_count": 105,
   "id": "77edff05",
   "metadata": {
    "pycharm": {
     "name": "#%%\n"
    }
   },
   "outputs": [
    {
     "data": {
      "text/html": [
       "<div>\n",
       "<style scoped>\n",
       "    .dataframe tbody tr th:only-of-type {\n",
       "        vertical-align: middle;\n",
       "    }\n",
       "\n",
       "    .dataframe tbody tr th {\n",
       "        vertical-align: top;\n",
       "    }\n",
       "\n",
       "    .dataframe thead th {\n",
       "        text-align: right;\n",
       "    }\n",
       "</style>\n",
       "<table border=\"1\" class=\"dataframe\">\n",
       "  <thead>\n",
       "    <tr style=\"text-align: right;\">\n",
       "      <th></th>\n",
       "      <th>PUPIL_SEX</th>\n",
       "      <th>PUPIL_CLASS</th>\n",
       "      <th>TEACHER_RIGHT</th>\n",
       "      <th>TEACHER_CHK</th>\n",
       "      <th>TEACHER_QUEST</th>\n",
       "      <th>TEACHER_CORR</th>\n",
       "      <th>PUPIL_CORR</th>\n",
       "      <th>PUPIL_STRIP</th>\n",
       "      <th>GRADE</th>\n",
       "    </tr>\n",
       "  </thead>\n",
       "  <tbody>\n",
       "    <tr>\n",
       "      <th>0</th>\n",
       "      <td>F</td>\n",
       "      <td>8A</td>\n",
       "      <td>65</td>\n",
       "      <td>0</td>\n",
       "      <td>4</td>\n",
       "      <td>2</td>\n",
       "      <td>1</td>\n",
       "      <td>6</td>\n",
       "      <td>4-</td>\n",
       "    </tr>\n",
       "    <tr>\n",
       "      <th>1</th>\n",
       "      <td>F</td>\n",
       "      <td>8A</td>\n",
       "      <td>70</td>\n",
       "      <td>4</td>\n",
       "      <td>0</td>\n",
       "      <td>4</td>\n",
       "      <td>0</td>\n",
       "      <td>4</td>\n",
       "      <td>3</td>\n",
       "    </tr>\n",
       "    <tr>\n",
       "      <th>2</th>\n",
       "      <td>F</td>\n",
       "      <td>8A</td>\n",
       "      <td>85</td>\n",
       "      <td>0</td>\n",
       "      <td>0</td>\n",
       "      <td>4</td>\n",
       "      <td>3</td>\n",
       "      <td>5</td>\n",
       "      <td>4</td>\n",
       "    </tr>\n",
       "    <tr>\n",
       "      <th>3</th>\n",
       "      <td>M</td>\n",
       "      <td>8A</td>\n",
       "      <td>55</td>\n",
       "      <td>0</td>\n",
       "      <td>0</td>\n",
       "      <td>1</td>\n",
       "      <td>8</td>\n",
       "      <td>3</td>\n",
       "      <td>3</td>\n",
       "    </tr>\n",
       "    <tr>\n",
       "      <th>4</th>\n",
       "      <td>M</td>\n",
       "      <td>8A</td>\n",
       "      <td>40</td>\n",
       "      <td>1</td>\n",
       "      <td>2</td>\n",
       "      <td>0</td>\n",
       "      <td>3</td>\n",
       "      <td>4</td>\n",
       "      <td>2</td>\n",
       "    </tr>\n",
       "  </tbody>\n",
       "</table>\n",
       "</div>"
      ],
      "text/plain": [
       "  PUPIL_SEX PUPIL_CLASS  TEACHER_RIGHT  TEACHER_CHK  TEACHER_QUEST  \\\n",
       "0         F          8A             65            0              4   \n",
       "1         F          8A             70            4              0   \n",
       "2         F          8A             85            0              0   \n",
       "3         M          8A             55            0              0   \n",
       "4         M          8A             40            1              2   \n",
       "\n",
       "   TEACHER_CORR  PUPIL_CORR  PUPIL_STRIP GRADE  \n",
       "0             2           1            6    4-  \n",
       "1             4           0            4     3  \n",
       "2             4           3            5     4  \n",
       "3             1           8            3     3  \n",
       "4             0           3            4     2  "
      ]
     },
     "execution_count": 105,
     "metadata": {},
     "output_type": "execute_result"
    }
   ],
   "source": [
    "from catboost.datasets import titanic\n",
    "import numpy as np\n",
    "\n",
    "train_df = pd.read_csv(\"grades.csv\")\n",
    "\n",
    "train_df.head()"
   ]
  },
  {
   "cell_type": "code",
   "execution_count": 106,
   "id": "eeb0a415",
   "metadata": {
    "pycharm": {
     "name": "#%%\n"
    }
   },
   "outputs": [
    {
     "data": {
      "text/plain": [
       "Series([], dtype: int64)"
      ]
     },
     "execution_count": 106,
     "metadata": {},
     "output_type": "execute_result"
    }
   ],
   "source": [
    "null_value_stats = train_df.isnull().sum(axis=0)\n",
    "null_value_stats[null_value_stats != 0]"
   ]
  },
  {
   "cell_type": "code",
   "execution_count": 107,
   "id": "49ce74b0",
   "metadata": {
    "pycharm": {
     "name": "#%%\n"
    }
   },
   "outputs": [],
   "source": [
    "train_df.fillna(-999, inplace=True)"
   ]
  },
  {
   "cell_type": "code",
   "execution_count": 108,
   "id": "4809dcad",
   "metadata": {
    "pycharm": {
     "name": "#%%\n"
    }
   },
   "outputs": [],
   "source": [
    "X = train_df.drop('GRADE', axis=1)\n",
    "y = train_df.GRADE"
   ]
  },
  {
   "cell_type": "code",
   "execution_count": 109,
   "id": "652ea692",
   "metadata": {
    "pycharm": {
     "name": "#%%\n"
    }
   },
   "outputs": [
    {
     "name": "stdout",
     "output_type": "stream",
     "text": [
      "PUPIL_SEX        object\n",
      "PUPIL_CLASS      object\n",
      "TEACHER_RIGHT     int64\n",
      "TEACHER_CHK       int64\n",
      "TEACHER_QUEST     int64\n",
      "TEACHER_CORR      int64\n",
      "PUPIL_CORR        int64\n",
      "PUPIL_STRIP       int64\n",
      "dtype: object\n"
     ]
    }
   ],
   "source": [
    "print(X.dtypes)\n",
    "\n",
    "categorical_features_indices = np.where(X.dtypes != float)[0]"
   ]
  },
  {
   "cell_type": "code",
   "execution_count": 110,
   "id": "d1a6be34",
   "metadata": {
    "pycharm": {
     "name": "#%%\n"
    }
   },
   "outputs": [],
   "source": [
    "from sklearn.model_selection import train_test_split\n",
    "\n",
    "X_train, X_validation, y_train, y_validation = train_test_split(X, y, train_size=0.75, random_state=42)\n"
   ]
  },
  {
   "cell_type": "code",
   "execution_count": 111,
   "id": "3fde66ea",
   "metadata": {
    "pycharm": {
     "name": "#%%\n"
    }
   },
   "outputs": [],
   "source": [
    "from catboost import CatBoostClassifier, Pool, metrics, cv\n",
    "from sklearn.metrics import accuracy_score"
   ]
  },
  {
   "cell_type": "code",
   "execution_count": 112,
   "id": "231c22d8",
   "metadata": {
    "pycharm": {
     "name": "#%%\n"
    }
   },
   "outputs": [
    {
     "data": {
      "application/vnd.jupyter.widget-view+json": {
       "model_id": "6f164a661fab407baa85a017d517867d",
       "version_major": 2,
       "version_minor": 0
      },
      "text/plain": [
       "MetricVisualizer(layout=Layout(align_self='stretch', height='500px'))"
      ]
     },
     "metadata": {},
     "output_type": "display_data"
    },
    {
     "data": {
      "application/vnd.jupyter.widget-view+json": {
       "model_id": "1cdd749610944c8e831e6776528eaee5",
       "version_major": 2,
       "version_minor": 0
      },
      "text/plain": [
       "MetricVisualizer(layout=Layout(align_self='stretch', height='500px'))"
      ]
     },
     "metadata": {},
     "output_type": "display_data"
    },
    {
     "data": {
      "application/vnd.jupyter.widget-view+json": {
       "model_id": "ed3430f6bec4413ea7a19613df10ef23",
       "version_major": 2,
       "version_minor": 0
      },
      "text/plain": [
       "MetricVisualizer(layout=Layout(align_self='stretch', height='500px'))"
      ]
     },
     "metadata": {},
     "output_type": "display_data"
    },
    {
     "data": {
      "application/vnd.jupyter.widget-view+json": {
       "model_id": "b0801470a8474eff9f61f0d388d60b18",
       "version_major": 2,
       "version_minor": 0
      },
      "text/plain": [
       "MetricVisualizer(layout=Layout(align_self='stretch', height='500px'))"
      ]
     },
     "metadata": {},
     "output_type": "display_data"
    },
    {
     "data": {
      "application/vnd.jupyter.widget-view+json": {
       "model_id": "9bfa2a3e17aa45ae9ba562ac87566b18",
       "version_major": 2,
       "version_minor": 0
      },
      "text/plain": [
       "MetricVisualizer(layout=Layout(align_self='stretch', height='500px'))"
      ]
     },
     "metadata": {},
     "output_type": "display_data"
    },
    {
     "data": {
      "application/vnd.jupyter.widget-view+json": {
       "model_id": "ff8eb6b97ae449bb985fd28a50e08041",
       "version_major": 2,
       "version_minor": 0
      },
      "text/plain": [
       "MetricVisualizer(layout=Layout(align_self='stretch', height='500px'))"
      ]
     },
     "metadata": {},
     "output_type": "display_data"
    }
   ],
   "source": [
    "for i in [50, 60, 70, 80, 90, 100]:\n",
    "    model = CatBoostClassifier(\n",
    "        iterations=100,\n",
    "        random_seed=i,\n",
    "        logging_level='Silent',\n",
    "        eval_metric=metrics.Accuracy()\n",
    "    )\n",
    "    model.fit(\n",
    "        X_train, y_train,\n",
    "        cat_features=categorical_features_indices,\n",
    "        eval_set=(X_validation, y_validation),\n",
    "    #     logging_level='Verbose',  # you can uncomment this for text output\n",
    "        plot=True,\n",
    "    );"
   ]
  },
  {
   "cell_type": "code",
   "execution_count": 73,
   "id": "787c80f7",
   "metadata": {
    "pycharm": {
     "name": "#%%\n"
    }
   },
   "outputs": [
    {
     "data": {
      "application/vnd.jupyter.widget-view+json": {
       "model_id": "7b0486e63fd64cf78fb42e5910fbecbf",
       "version_major": 2,
       "version_minor": 0
      },
      "text/plain": [
       "MetricVisualizer(layout=Layout(align_self='stretch', height='500px'))"
      ]
     },
     "metadata": {},
     "output_type": "display_data"
    }
   ],
   "source": [
    "model.fit(\n",
    "    X_train, y_train,\n",
    "    cat_features=categorical_features_indices,\n",
    "    eval_set=(X_validation, y_validation),\n",
    "#     logging_level='Verbose',  # you can uncomment this for text output\n",
    "    plot=True\n",
    ");"
   ]
  },
  {
   "cell_type": "code",
   "execution_count": 15,
   "id": "47a07e94",
   "metadata": {
    "pycharm": {
     "name": "#%%\n"
    }
   },
   "outputs": [
    {
     "name": "stdout",
     "output_type": "stream",
     "text": [
      "[['3']\n",
      " ['4']\n",
      " ['4']\n",
      " ['4']\n",
      " ['4']\n",
      " ['3']\n",
      " ['5-']\n",
      " ['5-']\n",
      " ['4']\n",
      " ['5']]\n",
      "[[0.157  0.6081 0.0259 0.0747 0.0734 0.0267 0.0342]\n",
      " [0.0918 0.1162 0.0166 0.5755 0.055  0.1075 0.0374]\n",
      " [0.1045 0.1638 0.0187 0.4735 0.1302 0.0335 0.0758]\n",
      " [0.1204 0.1948 0.0509 0.3309 0.1324 0.0341 0.1364]\n",
      " [0.1602 0.2725 0.0359 0.3291 0.0757 0.0758 0.0508]\n",
      " [0.1678 0.2727 0.1582 0.2652 0.0532 0.0312 0.0518]\n",
      " [0.0151 0.037  0.0133 0.0909 0.0297 0.0667 0.7473]\n",
      " [0.0147 0.0272 0.0125 0.0899 0.0216 0.085  0.7492]\n",
      " [0.0895 0.2538 0.029  0.3781 0.1347 0.0423 0.0726]\n",
      " [0.0299 0.0245 0.0167 0.0358 0.015  0.8341 0.0439]]\n"
     ]
    }
   ],
   "source": [
    "predictions = model.predict(X_validation)\n",
    "predictions_probs = model.predict_proba(X_validation)\n",
    "print(predictions[:10])\n",
    "print(predictions_probs[:10])"
   ]
  },
  {
   "cell_type": "code",
   "execution_count": null,
   "id": "af4e996b",
   "metadata": {},
   "outputs": [],
   "source": []
  },
  {
   "cell_type": "code",
   "execution_count": 98,
   "id": "edc596fd",
   "metadata": {
    "pycharm": {
     "name": "#%%\n"
    },
    "scrolled": true
   },
   "outputs": [
    {
     "data": {
      "text/html": [
       "<div>\n",
       "<style scoped>\n",
       "    .dataframe tbody tr th:only-of-type {\n",
       "        vertical-align: middle;\n",
       "    }\n",
       "\n",
       "    .dataframe tbody tr th {\n",
       "        vertical-align: top;\n",
       "    }\n",
       "\n",
       "    .dataframe thead th {\n",
       "        text-align: right;\n",
       "    }\n",
       "</style>\n",
       "<table border=\"1\" class=\"dataframe\">\n",
       "  <thead>\n",
       "    <tr style=\"text-align: right;\">\n",
       "      <th></th>\n",
       "      <th>Timestamp</th>\n",
       "      <th>1. Your Gender</th>\n",
       "      <th>2. Your Age</th>\n",
       "      <th>3. Are you currently....?</th>\n",
       "      <th>4. What is your annual income?</th>\n",
       "      <th>5. How often do you visit Starbucks?</th>\n",
       "      <th>6. How do you usually enjoy Starbucks?</th>\n",
       "      <th>7. How much time do you normally  spend during your visit?</th>\n",
       "      <th>8. The nearest Starbucks's outlet to you is...?</th>\n",
       "      <th>9. Do you have Starbucks membership card?</th>\n",
       "      <th>...</th>\n",
       "      <th>11. On average, how much would you spend at Starbucks per visit?</th>\n",
       "      <th>12. How would you rate the quality of Starbucks compared to other brands (Coffee Bean, Old Town White Coffee..) to be:</th>\n",
       "      <th>13. How would you rate the price range at Starbucks?</th>\n",
       "      <th>14. How important are sales and promotions in your purchase decision?</th>\n",
       "      <th>15. How would you rate the ambiance at Starbucks? (lighting, music, etc...)</th>\n",
       "      <th>16. You rate the WiFi quality at Starbucks as..</th>\n",
       "      <th>17. How would you rate the service at Starbucks? (Promptness, friendliness, etc..)</th>\n",
       "      <th>18. How likely you will choose Starbucks for doing business meetings or hangout with friends?</th>\n",
       "      <th>19. How do you come to hear of promotions at Starbucks? Check all that apply.</th>\n",
       "      <th>20. Will you continue buying at Starbucks?</th>\n",
       "    </tr>\n",
       "  </thead>\n",
       "  <tbody>\n",
       "    <tr>\n",
       "      <th>0</th>\n",
       "      <td>2019/10/01 12:38:43 PM GMT+8</td>\n",
       "      <td>Female</td>\n",
       "      <td>From 20 to 29</td>\n",
       "      <td>Student</td>\n",
       "      <td>Less than RM25,000</td>\n",
       "      <td>Rarely</td>\n",
       "      <td>Dine in</td>\n",
       "      <td>Between 30 minutes to 1 hour</td>\n",
       "      <td>within 1km</td>\n",
       "      <td>Yes</td>\n",
       "      <td>...</td>\n",
       "      <td>Less than RM20</td>\n",
       "      <td>4</td>\n",
       "      <td>3</td>\n",
       "      <td>5</td>\n",
       "      <td>5</td>\n",
       "      <td>4</td>\n",
       "      <td>4</td>\n",
       "      <td>3</td>\n",
       "      <td>Starbucks Website/Apps;Social Media;Emails;Dea...</td>\n",
       "      <td>Yes</td>\n",
       "    </tr>\n",
       "    <tr>\n",
       "      <th>1</th>\n",
       "      <td>2019/10/01 12:38:54 PM GMT+8</td>\n",
       "      <td>Female</td>\n",
       "      <td>From 20 to 29</td>\n",
       "      <td>Student</td>\n",
       "      <td>Less than RM25,000</td>\n",
       "      <td>Rarely</td>\n",
       "      <td>Take away</td>\n",
       "      <td>Below 30 minutes</td>\n",
       "      <td>1km - 3km</td>\n",
       "      <td>Yes</td>\n",
       "      <td>...</td>\n",
       "      <td>Less than RM20</td>\n",
       "      <td>4</td>\n",
       "      <td>3</td>\n",
       "      <td>4</td>\n",
       "      <td>4</td>\n",
       "      <td>4</td>\n",
       "      <td>5</td>\n",
       "      <td>2</td>\n",
       "      <td>Social Media;In Store displays</td>\n",
       "      <td>Yes</td>\n",
       "    </tr>\n",
       "    <tr>\n",
       "      <th>2</th>\n",
       "      <td>2019/10/01 12:38:56 PM GMT+8</td>\n",
       "      <td>Male</td>\n",
       "      <td>From 20 to 29</td>\n",
       "      <td>Employed</td>\n",
       "      <td>Less than RM25,000</td>\n",
       "      <td>Monthly</td>\n",
       "      <td>Dine in</td>\n",
       "      <td>Between 30 minutes to 1 hour</td>\n",
       "      <td>more than 3km</td>\n",
       "      <td>Yes</td>\n",
       "      <td>...</td>\n",
       "      <td>Less than RM20</td>\n",
       "      <td>4</td>\n",
       "      <td>3</td>\n",
       "      <td>4</td>\n",
       "      <td>4</td>\n",
       "      <td>4</td>\n",
       "      <td>4</td>\n",
       "      <td>3</td>\n",
       "      <td>In Store displays;Billboards</td>\n",
       "      <td>Yes</td>\n",
       "    </tr>\n",
       "    <tr>\n",
       "      <th>3</th>\n",
       "      <td>2019/10/01 12:39:08 PM GMT+8</td>\n",
       "      <td>Female</td>\n",
       "      <td>From 20 to 29</td>\n",
       "      <td>Student</td>\n",
       "      <td>Less than RM25,000</td>\n",
       "      <td>Rarely</td>\n",
       "      <td>Take away</td>\n",
       "      <td>Below 30 minutes</td>\n",
       "      <td>more than 3km</td>\n",
       "      <td>No</td>\n",
       "      <td>...</td>\n",
       "      <td>Less than RM20</td>\n",
       "      <td>2</td>\n",
       "      <td>1</td>\n",
       "      <td>4</td>\n",
       "      <td>3</td>\n",
       "      <td>3</td>\n",
       "      <td>3</td>\n",
       "      <td>3</td>\n",
       "      <td>Through friends and word of mouth</td>\n",
       "      <td>No</td>\n",
       "    </tr>\n",
       "    <tr>\n",
       "      <th>4</th>\n",
       "      <td>2019/10/01 12:39:20 PM GMT+8</td>\n",
       "      <td>Male</td>\n",
       "      <td>From 20 to 29</td>\n",
       "      <td>Student</td>\n",
       "      <td>Less than RM25,000</td>\n",
       "      <td>Monthly</td>\n",
       "      <td>Take away</td>\n",
       "      <td>Between 30 minutes to 1 hour</td>\n",
       "      <td>1km - 3km</td>\n",
       "      <td>No</td>\n",
       "      <td>...</td>\n",
       "      <td>Around RM20 - RM40</td>\n",
       "      <td>3</td>\n",
       "      <td>3</td>\n",
       "      <td>4</td>\n",
       "      <td>2</td>\n",
       "      <td>2</td>\n",
       "      <td>3</td>\n",
       "      <td>3</td>\n",
       "      <td>Starbucks Website/Apps;Social Media</td>\n",
       "      <td>Yes</td>\n",
       "    </tr>\n",
       "  </tbody>\n",
       "</table>\n",
       "<p>5 rows × 21 columns</p>\n",
       "</div>"
      ],
      "text/plain": [
       "                      Timestamp 1. Your Gender    2. Your Age  \\\n",
       "0  2019/10/01 12:38:43 PM GMT+8         Female  From 20 to 29   \n",
       "1  2019/10/01 12:38:54 PM GMT+8         Female  From 20 to 29   \n",
       "2  2019/10/01 12:38:56 PM GMT+8           Male  From 20 to 29   \n",
       "3  2019/10/01 12:39:08 PM GMT+8         Female  From 20 to 29   \n",
       "4  2019/10/01 12:39:20 PM GMT+8           Male  From 20 to 29   \n",
       "\n",
       "  3. Are you currently....? 4. What is your annual income?  \\\n",
       "0                   Student             Less than RM25,000   \n",
       "1                   Student             Less than RM25,000   \n",
       "2                  Employed             Less than RM25,000   \n",
       "3                   Student             Less than RM25,000   \n",
       "4                   Student             Less than RM25,000   \n",
       "\n",
       "  5. How often do you visit Starbucks? 6. How do you usually enjoy Starbucks?  \\\n",
       "0                               Rarely                                Dine in   \n",
       "1                               Rarely                              Take away   \n",
       "2                              Monthly                                Dine in   \n",
       "3                               Rarely                              Take away   \n",
       "4                              Monthly                              Take away   \n",
       "\n",
       "  7. How much time do you normally  spend during your visit?  \\\n",
       "0                       Between 30 minutes to 1 hour           \n",
       "1                                   Below 30 minutes           \n",
       "2                       Between 30 minutes to 1 hour           \n",
       "3                                   Below 30 minutes           \n",
       "4                       Between 30 minutes to 1 hour           \n",
       "\n",
       "  8. The nearest Starbucks's outlet to you is...?  \\\n",
       "0                                      within 1km   \n",
       "1                                       1km - 3km   \n",
       "2                                   more than 3km   \n",
       "3                                   more than 3km   \n",
       "4                                       1km - 3km   \n",
       "\n",
       "  9. Do you have Starbucks membership card?  ...  \\\n",
       "0                                       Yes  ...   \n",
       "1                                       Yes  ...   \n",
       "2                                       Yes  ...   \n",
       "3                                        No  ...   \n",
       "4                                        No  ...   \n",
       "\n",
       "  11. On average, how much would you spend at Starbucks per visit?  \\\n",
       "0                                     Less than RM20                 \n",
       "1                                     Less than RM20                 \n",
       "2                                     Less than RM20                 \n",
       "3                                     Less than RM20                 \n",
       "4                                 Around RM20 - RM40                 \n",
       "\n",
       "  12. How would you rate the quality of Starbucks compared to other brands (Coffee Bean, Old Town White Coffee..) to be:  \\\n",
       "0                                                  4                                                                       \n",
       "1                                                  4                                                                       \n",
       "2                                                  4                                                                       \n",
       "3                                                  2                                                                       \n",
       "4                                                  3                                                                       \n",
       "\n",
       "   13. How would you rate the price range at Starbucks?  \\\n",
       "0                                                  3      \n",
       "1                                                  3      \n",
       "2                                                  3      \n",
       "3                                                  1      \n",
       "4                                                  3      \n",
       "\n",
       "   14. How important are sales and promotions in your purchase decision?  \\\n",
       "0                                                  5                       \n",
       "1                                                  4                       \n",
       "2                                                  4                       \n",
       "3                                                  4                       \n",
       "4                                                  4                       \n",
       "\n",
       "   15. How would you rate the ambiance at Starbucks? (lighting, music, etc...)  \\\n",
       "0                                                  5                             \n",
       "1                                                  4                             \n",
       "2                                                  4                             \n",
       "3                                                  3                             \n",
       "4                                                  2                             \n",
       "\n",
       "   16. You rate the WiFi quality at Starbucks as..  \\\n",
       "0                                                4   \n",
       "1                                                4   \n",
       "2                                                4   \n",
       "3                                                3   \n",
       "4                                                2   \n",
       "\n",
       "   17. How would you rate the service at Starbucks? (Promptness, friendliness, etc..)  \\\n",
       "0                                                  4                                    \n",
       "1                                                  5                                    \n",
       "2                                                  4                                    \n",
       "3                                                  3                                    \n",
       "4                                                  3                                    \n",
       "\n",
       "   18. How likely you will choose Starbucks for doing business meetings or hangout with friends?  \\\n",
       "0                                                  3                                               \n",
       "1                                                  2                                               \n",
       "2                                                  3                                               \n",
       "3                                                  3                                               \n",
       "4                                                  3                                               \n",
       "\n",
       "   19. How do you come to hear of promotions at Starbucks? Check all that apply.  \\\n",
       "0  Starbucks Website/Apps;Social Media;Emails;Dea...                               \n",
       "1                     Social Media;In Store displays                               \n",
       "2                       In Store displays;Billboards                               \n",
       "3                  Through friends and word of mouth                               \n",
       "4                Starbucks Website/Apps;Social Media                               \n",
       "\n",
       "  20. Will you continue buying at Starbucks?  \n",
       "0                                        Yes  \n",
       "1                                        Yes  \n",
       "2                                        Yes  \n",
       "3                                         No  \n",
       "4                                        Yes  \n",
       "\n",
       "[5 rows x 21 columns]"
      ]
     },
     "execution_count": 98,
     "metadata": {},
     "output_type": "execute_result"
    }
   ],
   "source": [
    "train_df = pd.read_csv(\"Starbucks satisfactory survey.csv\")\n",
    "\n",
    "train_df.head()"
   ]
  },
  {
   "cell_type": "code",
   "execution_count": 99,
   "id": "bc5358d1",
   "metadata": {
    "pycharm": {
     "name": "#%%\n"
    }
   },
   "outputs": [
    {
     "data": {
      "text/plain": [
       "6. How do you usually enjoy Starbucks?                                           1\n",
       "19. How do you come to hear of promotions at Starbucks? Check all that apply.    1\n",
       "dtype: int64"
      ]
     },
     "execution_count": 99,
     "metadata": {},
     "output_type": "execute_result"
    }
   ],
   "source": [
    "null_value_stats = train_df.isnull().sum(axis=0)\n",
    "null_value_stats[null_value_stats != 0]"
   ]
  },
  {
   "cell_type": "code",
   "execution_count": 100,
   "id": "7d20d268",
   "metadata": {},
   "outputs": [],
   "source": [
    "train_df.fillna(-999, inplace=True)"
   ]
  },
  {
   "cell_type": "code",
   "execution_count": 101,
   "id": "c25cc5aa",
   "metadata": {},
   "outputs": [],
   "source": [
    "X = train_df.drop('20. Will you continue buying at Starbucks?', axis=1)\n",
    "y = train_df['20. Will you continue buying at Starbucks?']"
   ]
  },
  {
   "cell_type": "code",
   "execution_count": 102,
   "id": "aecc47df",
   "metadata": {},
   "outputs": [
    {
     "name": "stdout",
     "output_type": "stream",
     "text": [
      "Timestamp                                                                                                                 object\n",
      "1. Your Gender                                                                                                            object\n",
      "2. Your Age                                                                                                               object\n",
      "3. Are you currently....?                                                                                                 object\n",
      "4. What is your annual income?                                                                                            object\n",
      "5. How often do you visit Starbucks?                                                                                      object\n",
      "6. How do you usually enjoy Starbucks?                                                                                    object\n",
      "7. How much time do you normally  spend during your visit?                                                                object\n",
      "8. The nearest Starbucks's outlet to you is...?                                                                           object\n",
      "9. Do you have Starbucks membership card?                                                                                 object\n",
      "10. What do you most frequently purchase at Starbucks?                                                                    object\n",
      "11. On average, how much would you spend at Starbucks per visit?                                                          object\n",
      "12. How would you rate the quality of Starbucks compared to other brands (Coffee Bean, Old Town White Coffee..) to be:     int64\n",
      "13. How would you rate the price range at Starbucks?                                                                       int64\n",
      "14. How important are sales and promotions in your purchase decision?                                                      int64\n",
      "15. How would you rate the ambiance at Starbucks? (lighting, music, etc...)                                                int64\n",
      "16. You rate the WiFi quality at Starbucks as..                                                                            int64\n",
      "17. How would you rate the service at Starbucks? (Promptness, friendliness, etc..)                                         int64\n",
      "18. How likely you will choose Starbucks for doing business meetings or hangout with friends?                              int64\n",
      "19. How do you come to hear of promotions at Starbucks? Check all that apply.                                             object\n",
      "dtype: object\n"
     ]
    }
   ],
   "source": [
    "print(X.dtypes)\n",
    "\n",
    "categorical_features_indices = np.where(X.dtypes != float)[0]"
   ]
  },
  {
   "cell_type": "code",
   "execution_count": 103,
   "id": "1d0c6fe9",
   "metadata": {},
   "outputs": [],
   "source": [
    "from sklearn.model_selection import train_test_split\n",
    "\n",
    "X_train, X_validation, y_train, y_validation = train_test_split(X, y, train_size=0.75, random_state=42)"
   ]
  },
  {
   "cell_type": "code",
   "execution_count": 104,
   "id": "03e2623e",
   "metadata": {},
   "outputs": [
    {
     "data": {
      "application/vnd.jupyter.widget-view+json": {
       "model_id": "51fe0c125b1249968015877385ae604c",
       "version_major": 2,
       "version_minor": 0
      },
      "text/plain": [
       "MetricVisualizer(layout=Layout(align_self='stretch', height='500px'))"
      ]
     },
     "metadata": {},
     "output_type": "display_data"
    },
    {
     "data": {
      "application/vnd.jupyter.widget-view+json": {
       "model_id": "fa6483ae12b4467b853eaca0891a68cb",
       "version_major": 2,
       "version_minor": 0
      },
      "text/plain": [
       "MetricVisualizer(layout=Layout(align_self='stretch', height='500px'))"
      ]
     },
     "metadata": {},
     "output_type": "display_data"
    },
    {
     "data": {
      "application/vnd.jupyter.widget-view+json": {
       "model_id": "ae3d82146c8d4c42a3bff5ad286fcd40",
       "version_major": 2,
       "version_minor": 0
      },
      "text/plain": [
       "MetricVisualizer(layout=Layout(align_self='stretch', height='500px'))"
      ]
     },
     "metadata": {},
     "output_type": "display_data"
    },
    {
     "data": {
      "application/vnd.jupyter.widget-view+json": {
       "model_id": "eff3438c39934c3399347a0a60dcf1f0",
       "version_major": 2,
       "version_minor": 0
      },
      "text/plain": [
       "MetricVisualizer(layout=Layout(align_self='stretch', height='500px'))"
      ]
     },
     "metadata": {},
     "output_type": "display_data"
    },
    {
     "data": {
      "application/vnd.jupyter.widget-view+json": {
       "model_id": "1ecdf8da31b140d4b8983443be8cb641",
       "version_major": 2,
       "version_minor": 0
      },
      "text/plain": [
       "MetricVisualizer(layout=Layout(align_self='stretch', height='500px'))"
      ]
     },
     "metadata": {},
     "output_type": "display_data"
    },
    {
     "data": {
      "application/vnd.jupyter.widget-view+json": {
       "model_id": "6086ed70898c468aacf51c013a376190",
       "version_major": 2,
       "version_minor": 0
      },
      "text/plain": [
       "MetricVisualizer(layout=Layout(align_self='stretch', height='500px'))"
      ]
     },
     "metadata": {},
     "output_type": "display_data"
    }
   ],
   "source": [
    "for i in [50, 60, 70, 80, 90, 100]:\n",
    "    model = CatBoostClassifier(\n",
    "        iterations=100,\n",
    "        random_seed=i,\n",
    "        logging_level='Silent',\n",
    "        eval_metric=metrics.Accuracy()\n",
    "    )\n",
    "    model.fit(\n",
    "        X_train, y_train,\n",
    "        cat_features=categorical_features_indices,\n",
    "        eval_set=(X_validation, y_validation),\n",
    "    #     logging_level='Verbose',  # you can uncomment this for text output\n",
    "        plot=True,\n",
    "    );"
   ]
  },
  {
   "cell_type": "code",
   "execution_count": 96,
   "id": "945c5516",
   "metadata": {},
   "outputs": [
    {
     "data": {
      "application/vnd.jupyter.widget-view+json": {
       "model_id": "dad2795a0f034263b23e43a027a17051",
       "version_major": 2,
       "version_minor": 0
      },
      "text/plain": [
       "MetricVisualizer(layout=Layout(align_self='stretch', height='500px'))"
      ]
     },
     "metadata": {},
     "output_type": "display_data"
    }
   ],
   "source": [
    "model.fit(\n",
    "    X_train, y_train,\n",
    "    cat_features=categorical_features_indices,\n",
    "    eval_set=(X_validation, y_validation),\n",
    "#     logging_level='Verbose',  # you can uncomment this for text output\n",
    "    plot=True,\n",
    ");"
   ]
  },
  {
   "cell_type": "code",
   "execution_count": 25,
   "id": "e7dc53fd",
   "metadata": {},
   "outputs": [
    {
     "name": "stdout",
     "output_type": "stream",
     "text": [
      "['Yes' 'Yes' 'No' 'Yes' 'Yes' 'Yes' 'Yes' 'No' 'Yes' 'Yes']\n",
      "[[0.0556 0.9444]\n",
      " [0.0943 0.9057]\n",
      " [0.7814 0.2186]\n",
      " [0.2719 0.7281]\n",
      " [0.2152 0.7848]\n",
      " [0.1288 0.8712]\n",
      " [0.1343 0.8657]\n",
      " [0.6749 0.3251]\n",
      " [0.09   0.91  ]\n",
      " [0.1153 0.8847]]\n"
     ]
    }
   ],
   "source": [
    "predictions = model.predict(X_validation)\n",
    "predictions_probs = model.predict_proba(X_validation)\n",
    "print(predictions[:10])\n",
    "print(predictions_probs[:10])"
   ]
  },
  {
   "cell_type": "code",
   "execution_count": null,
   "id": "18edae7c",
   "metadata": {},
   "outputs": [],
   "source": []
  }
 ],
 "metadata": {
  "kernelspec": {
   "display_name": "Python 3 (ipykernel)",
   "language": "python",
   "name": "python3"
  },
  "language_info": {
   "codemirror_mode": {
    "name": "ipython",
    "version": 3
   },
   "file_extension": ".py",
   "mimetype": "text/x-python",
   "name": "python",
   "nbconvert_exporter": "python",
   "pygments_lexer": "ipython3",
   "version": "3.10.4"
  }
 },
 "nbformat": 4,
 "nbformat_minor": 5
}
